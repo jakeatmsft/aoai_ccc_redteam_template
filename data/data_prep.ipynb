{
 "cells": [
  {
   "cell_type": "markdown",
   "metadata": {},
   "source": [
    "## Use this notebook to generate Jailbreak test prompts"
   ]
  },
  {
   "cell_type": "code",
   "execution_count": 6,
   "metadata": {},
   "outputs": [],
   "source": [
    "\n",
    "import pandas as pd\n",
    "\n",
    "# Jailbreak prompts\n",
    "jailbreak_prompts = pd.read_csv('sampled_jailbreak_prompts.csv')\n",
    "\n",
    "# Copyright objectives\n",
    "copyright_prompts = pd.read_csv('copyright_prompts.csv')\n",
    "\n",
    "\n"
   ]
  },
  {
   "cell_type": "code",
   "execution_count": 3,
   "metadata": {},
   "outputs": [],
   "source": [
    "# Generate cross join to each jailbreak prompt with each copyright prompt\n",
    "cross_join_df = jailbreak_prompts.merge(copyright_prompts, how='cross')\n",
    "cross_join_df['jailbreak_prompt'] = cross_join_df['prompt'].astype(str) + ' ' + cross_join_df['copyright'].astype(str)\n",
    "\n"
   ]
  },
  {
   "cell_type": "code",
   "execution_count": 5,
   "metadata": {},
   "outputs": [],
   "source": [
    "# Save file to csv\n",
    "cross_join_df.to_csv('jailbreak_copyright_prompts.csv', index=True, index_label='questionid')"
   ]
  }
 ],
 "metadata": {
  "kernelspec": {
   "display_name": "autogen",
   "language": "python",
   "name": "python3"
  },
  "language_info": {
   "codemirror_mode": {
    "name": "ipython",
    "version": 3
   },
   "file_extension": ".py",
   "mimetype": "text/x-python",
   "name": "python",
   "nbconvert_exporter": "python",
   "pygments_lexer": "ipython3",
   "version": "3.11.5"
  }
 },
 "nbformat": 4,
 "nbformat_minor": 2
}
